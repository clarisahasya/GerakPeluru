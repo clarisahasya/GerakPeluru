{
 "cells": [
  {
   "cell_type": "code",
   "execution_count": 3,
   "metadata": {},
   "outputs": [
    {
     "data": {
      "image/png": "[encoded data removed]",
      "text/plain": [
       "<Figure size 432x288 with 1 Axes>"
      ]
     },
     "metadata": {
      "needs_background": "light"
     },
     "output_type": "display_data"
    },
    {
     "name": "stdout",
     "output_type": "stream",
     "text": [
      "total time (s): 28.70 vs 28.86\n",
      "range (m) 4058.79 vs 4081.63\n",
      "max height (m) 1013.35 vs 1020.41\n"
     ]
    }
   ],
   "source": [
    "import numpy as np\n",
    "import matplotlib.pyplot as plt\n",
    "\n",
    "# inisialisasi\n",
    "x = 0 \n",
    "y = 0 \n",
    "v0 = 200 \n",
    "angle = 45 # inisial sudut\n",
    "angle_rad = (angle/360)*(2 * np.pi) # konversi sudut jadi radian\n",
    "g = -9.8 \n",
    "t = 0 \n",
    "dt = 0.1 \n",
    "\n",
    "\n",
    "#inisialisasi array\n",
    "x_arr = [x]\n",
    "y_arr = [y]\n",
    "t_arr = [t]\n",
    "\n",
    "vx = v0 * np.cos(angle_rad)\n",
    "vy = v0 * np.sin(angle_rad)\n",
    "\n",
    "#solusi numerik\n",
    "#update\n",
    "while y >= 0:\n",
    "    vy += g*dt\n",
    "    y += vy*dt\n",
    "    x += vx*dt\n",
    "    t += dt\n",
    "    if y < 0:\n",
    "        break\n",
    "# store\n",
    "    x_arr.append(x)\n",
    "    y_arr.append(y)\n",
    "    t_arr.append(t)\n",
    "    \n",
    "t_tot_num = t_arr[-1] #total time\n",
    "range_num = x_arr[-1] #range\n",
    "h_max_num = np.max(y_arr) #max height\n",
    "\n",
    "#solusi analitik\n",
    "x_ex_arr = [0]\n",
    "y_ex_arr = [0]\n",
    "for t in t_arr:\n",
    "    x_ex = v0 * np.cos(angle_rad) * t\n",
    "    y_ex = (0.5 * g * t**2) + (v0 * np.sin(angle_rad) * t)\n",
    "    x_ex_arr.append(x_ex)\n",
    "    y_ex_arr.append(y_ex)\n",
    "\n",
    "\n",
    "t_tot_ex = (2 * v0 * np.sin(angle_rad))/-g # total time\n",
    "range_ex = v0 * np.cos(angle_rad) * t_tot_ex # range\n",
    "h_max_ex = (v0**2 * np.sin(angle_rad)**2) / (-2 * g) # max height\n",
    "\n",
    "plt.figure()\n",
    "plt.plot(x_arr, y_arr, c='b', label='numerical')\n",
    "plt.plot(x_ex_arr, y_ex_arr, c='r', label='analytical')\n",
    "plt.axhline(c='black')\n",
    "plt.axvline(c='black')\n",
    "plt.legend()\n",
    "plt.show()\n",
    "\n",
    "\n",
    "# membandingkan('numerical vs analytical') \n",
    "print('total time (s): {:.2f} vs {:.2f}'.format(t_tot_num, t_tot_ex)) \n",
    "print('range (m) {:.2f} vs {:.2f}'.format(range_num, range_ex)) \n",
    "print('max height (m) {:.2f} vs {:.2f}'.format(h_max_num, h_max_ex)) "
   ]
  },
  {
   "cell_type": "code",
   "execution_count": null,
   "metadata": {},
   "outputs": [],
   "source": []
  },
  {
   "cell_type": "code",
   "execution_count": null,
   "metadata": {},
   "outputs": [],
   "source": []
  }
 ],
 "metadata": {
  "kernelspec": {
   "display_name": "Python 3",
   "language": "python",
   "name": "python3"
  },
  "language_info": {
   "codemirror_mode": {
    "name": "ipython",
    "version": 3
   },
   "file_extension": ".py",
   "mimetype": "text/x-python",
   "name": "python",
   "nbconvert_exporter": "python",
   "pygments_lexer": "ipython3",
   "version": "3.7.1"
  }
 },
 "nbformat": 4,
 "nbformat_minor": 2
}
